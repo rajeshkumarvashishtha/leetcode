{
 "cells": [
  {
   "cell_type": "markdown",
   "id": "af3584f9-63e5-4f9f-8eb0-486296e25e92",
   "metadata": {},
   "source": [
    "# 2780. Minimum Index of a Valid Split\n",
    "An element `x` of an integer array `arr` of length `m` is **dominant** if **more than half** the elements of arr have a value of `x`.\n",
    "\n",
    "You are given a **0-indexed** integer array `nums` of length `n` with one **dominant** element.\n",
    "\n",
    "You can split nums at an index `i` into two arrays `nums[0, ..., i]` and `nums[i + 1, ..., n - 1]`, but the split is only valid if:\n",
    "\n",
    "* 0 <= i < n - 1\n",
    "* `nums[0, ..., i]`, and `nums[i + 1, ..., n - 1]` have the same dominant element.\n",
    "Here, `nums[i, ..., j]` denotes the subarray of `nums` starting at index `i` and ending at index `j`, both ends being inclusive. Particularly, if `j < i` then `nums[i, ..., j]` denotes an empty subarray.\n",
    "\n",
    "Return the **minimum** index of a valid split. If no **valid split** exists, return -1.\n",
    "\n",
    " \n",
    "\n",
    "# Example 1:\n",
    "\n",
    "**Input:**\n",
    "```python\n",
    "nums = [1,2,2,2]\n",
    "```\n",
    "**Output:**\n",
    "```\n",
    "2\n",
    "```\n",
    "**Explanation:** We can split the array at index 2 to obtain arrays `[1,2,2]` and `[2]`. \n",
    "In array `[1,2,2]`, element 2 is dominant since it occurs twice in the array and 2 * 2 > 3. \n",
    "In array [2], element 2 is dominant since it occurs once in the array and 1 * 2 > 1.\n",
    "Both [1,2,2] and [2] have the same dominant element as nums, so this is a valid split. \n",
    "It can be shown that index 2 is the minimum index of a valid split. \n",
    "Example 2:\n",
    "\n",
    "**Input:**\n",
    "```python\n",
    "nums = [2,1,3,1,1,1,7,1,2,1]\n",
    "```\n",
    "**Output:** \n",
    "```\n",
    "4\n",
    "```\n",
    "\n",
    "**Explanation:** We can split the array at index 4 to obtain arrays [2,1,3,1,1] and [1,7,1,2,1].\n",
    "In array [2,1,3,1,1], element 1 is dominant since it occurs thrice in the array and 3 * 2 > 5.\n",
    "In array [1,7,1,2,1], element 1 is dominant since it occurs thrice in the array and 3 * 2 > 5.\n",
    "Both [2,1,3,1,1] and [1,7,1,2,1] have the same dominant element as nums, so this is a valid split.\n",
    "It can be shown that index 4 is the minimum index of a valid split.\n",
    "Example 3:\n",
    "\n",
    "**Input:**\n",
    "```python\n",
    "nums = [3,3,3,3,7,2,2]\n",
    "```\n",
    "**Output:**\n",
    "```\n",
    "-1\n",
    "```\n",
    "\n",
    "**Explanation:** It can be shown that there is no valid split.\n",
    " \n",
    "\n",
    "# Constraints:\n",
    "\n",
    "* 1 <= nums.length <= 105\n",
    "* 1 <= nums[i] <= 109\n",
    "nums has exactly one dominant element."
   ]
  },
  {
   "cell_type": "code",
   "execution_count": 1,
   "id": "3d4c9f7e-07c2-403d-8f44-550deea9ad8b",
   "metadata": {},
   "outputs": [],
   "source": [
    "class Solution:\n",
    "    def minimumIndex(self, nums) -> int:\n",
    "        n = len(nums)\n",
    "        freq = {}\n",
    "        for i in nums:\n",
    "            if i in freq:\n",
    "                freq[i] += 1\n",
    "            else:\n",
    "                freq[i] = 1\n",
    "        \n",
    "        for num, count in freq.items():\n",
    "            if count > n//2:\n",
    "                dominant = num\n",
    "                break\n",
    "        left_count = 0\n",
    "        for i in range(n-1):\n",
    "            if nums[i] == dominant:\n",
    "                left_count += 1\n",
    "                right_count = freq[dominant] - left_count\n",
    "            if left_count > (i+1)//2 and right_count > (n-i-1)//2:\n",
    "                return i\n",
    "        \n",
    "        return -1"
   ]
  },
  {
   "cell_type": "code",
   "execution_count": 2,
   "id": "9a0efbfd-e5ca-4d01-91a3-d87530c2628e",
   "metadata": {},
   "outputs": [
    {
     "data": {
      "text/plain": [
       "2"
      ]
     },
     "execution_count": 2,
     "metadata": {},
     "output_type": "execute_result"
    }
   ],
   "source": [
    "nums = [1,2,2,2]\n",
    "a = Solution()\n",
    "a.minimumIndex(nums)"
   ]
  },
  {
   "cell_type": "code",
   "execution_count": 3,
   "id": "e97fcc33-18ef-4f0b-b0e9-fc63b8a795b4",
   "metadata": {},
   "outputs": [
    {
     "data": {
      "text/plain": [
       "4"
      ]
     },
     "execution_count": 3,
     "metadata": {},
     "output_type": "execute_result"
    }
   ],
   "source": [
    "nums = [2,1,3,1,1,1,7,1,2,1]\n",
    "a = Solution()\n",
    "a.minimumIndex(nums)"
   ]
  },
  {
   "cell_type": "code",
   "execution_count": 4,
   "id": "a4ee5f89-71cb-4b72-b9b6-e5a8d6b7e5e9",
   "metadata": {},
   "outputs": [
    {
     "data": {
      "text/plain": [
       "-1"
      ]
     },
     "execution_count": 4,
     "metadata": {},
     "output_type": "execute_result"
    }
   ],
   "source": [
    "nums = [3,3,3,3,7,2,2]\n",
    "a = Solution()\n",
    "a.minimumIndex(nums)"
   ]
  },
  {
   "cell_type": "code",
   "execution_count": null,
   "id": "8b37d20f-4832-44d6-8e6b-257391e6f339",
   "metadata": {},
   "outputs": [],
   "source": []
  }
 ],
 "metadata": {
  "kernelspec": {
   "display_name": "Python 3 (ipykernel)",
   "language": "python",
   "name": "python3"
  },
  "language_info": {
   "codemirror_mode": {
    "name": "ipython",
    "version": 3
   },
   "file_extension": ".py",
   "mimetype": "text/x-python",
   "name": "python",
   "nbconvert_exporter": "python",
   "pygments_lexer": "ipython3",
   "version": "3.10.9"
  }
 },
 "nbformat": 4,
 "nbformat_minor": 5
}
