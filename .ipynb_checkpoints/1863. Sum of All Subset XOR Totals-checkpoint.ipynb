{
 "cells": [
  {
   "cell_type": "markdown",
   "id": "63983800-3f34-4b0d-a5be-dbd4ae1dfe5f",
   "metadata": {},
   "source": [
    "# 1863. Sum of All Subset XOR Totals\n",
    "\n",
    "\n",
    "The **XOR total** of an array is defined as the bitwise `XOR` of **all its elements**, or 0 if the array is **empty**.\n",
    "\n",
    "For example, the **XOR total** of the array `[2,5,6]` is `2 XOR 5 XOR 6 = 1`.\n",
    "Given an array `nums`, return the **sum** of all **XOR totals** for every **subset** of nums. \n",
    "\n",
    "**Note:** Subsets with the **same** elements should be counted **multiple** times.\n",
    "\n",
    "An array `a` is a **subset** of an array `b` if a can be obtained from `b` by deleting some (possibly zero) elements of `b`.\n",
    "\n",
    " \n",
    "\n",
    "## Example 1:\n",
    "\n",
    "**Input:**\n",
    "```python\n",
    "nums = [1,3]\n",
    "```\n",
    "**Output:** \n",
    "```python\n",
    "6\n",
    "```\n",
    "**Explanation:** The 4 subsets of [1,3] are:\n",
    "- The empty subset has an XOR total of 0.\n",
    "- [1] has an XOR total of 1.\n",
    "- [3] has an XOR total of 3.\n",
    "- [1,3] has an XOR total of 1 XOR 3 = 2.\n",
    "0 + 1 + 3 + 2 = 6\n",
    "Example 2:\n",
    "\n",
    "**Input:** \n",
    "```python\n",
    "nums = [5,1,6]\n",
    "```\n",
    "**Output:**\n",
    "```python\n",
    "28\n",
    "```\n",
    "**Explanation:** The 8 subsets of [5,1,6] are:\n",
    "- The empty subset has an XOR total of 0.\n",
    "- [5] has an XOR total of 5.\n",
    "- [1] has an XOR total of 1.\n",
    "- [6] has an XOR total of 6.\n",
    "- [5,1] has an XOR total of 5 XOR 1 = 4.\n",
    "- [5,6] has an XOR total of 5 XOR 6 = 3.\n",
    "- [1,6] has an XOR total of 1 XOR 6 = 7.\n",
    "- [5,1,6] has an XOR total of 5 XOR 1 XOR 6 = 2.\n",
    "0 + 5 + 1 + 6 + 4 + 3 + 7 + 2 = 28\n",
    "Example 3:\n",
    "\n",
    "**Input:**\n",
    "```python\n",
    "nums = [3,4,5,6,7,8]\n",
    "```\n",
    "**Output:** \n",
    "```python\n",
    "480\n",
    "```\n",
    "Explanation: The sum of all XOR totals for every subset is 480.\n",
    " \n",
    "\n",
    "## Constraints:\n",
    "```python\n",
    "1 <= nums.length <= 12\n",
    "1 <= nums[i] <= 20\n",
    "```"
   ]
  },
  {
   "cell_type": "code",
   "execution_count": 1,
   "id": "301a6876-6b8e-405a-84b2-0bbc21c7752f",
   "metadata": {},
   "outputs": [],
   "source": [
    "class Solution:\n",
    "    def subsetXORSum(self, nums) -> int:\n",
    "        \"\"\"\n",
    "        :type nums: List[int]\n",
    "        :rtype: int\n",
    "        \"\"\"\n",
    "        n = len(nums)\n",
    "        total_sum = 0\n",
    "        \n",
    "        # Iterate over all possible subsets represented by bitmask\n",
    "        for mask in range(1 << n):  # There are 2^n subsets\n",
    "            print(\"mask\",mask)\n",
    "            subset_xor = 0\n",
    "            for i in range(n):\n",
    "                # Check if the i-th element is included in the subset (bitmask)\n",
    "                if mask & (1 << i):  # If the i-th bit in mask is 1, include nums[i]\n",
    "                    print(nums[i])\n",
    "                    subset_xor ^= nums[i]  # XOR the element\n",
    "            total_sum += subset_xor\n",
    "        \n",
    "        return total_sum"
   ]
  },
  {
   "cell_type": "code",
   "execution_count": 4,
   "id": "c21228c8-4418-4fc4-a41d-a6debc966078",
   "metadata": {},
   "outputs": [
    {
     "name": "stdout",
     "output_type": "stream",
     "text": [
      "mask 0\n",
      "mask 1\n",
      "1\n",
      "mask 2\n",
      "3\n",
      "mask 3\n",
      "1\n",
      "3\n"
     ]
    },
    {
     "data": {
      "text/plain": [
       "6"
      ]
     },
     "execution_count": 4,
     "metadata": {},
     "output_type": "execute_result"
    }
   ],
   "source": [
    "nums = [1,3]\n",
    "a = Solution()\n",
    "a.subsetXORSum(nums)"
   ]
  },
  {
   "cell_type": "code",
   "execution_count": null,
   "id": "e50b8ccf-ebc2-48a4-8e85-892abb4c1e61",
   "metadata": {},
   "outputs": [],
   "source": []
  }
 ],
 "metadata": {
  "kernelspec": {
   "display_name": "Python 3 (ipykernel)",
   "language": "python",
   "name": "python3"
  },
  "language_info": {
   "codemirror_mode": {
    "name": "ipython",
    "version": 3
   },
   "file_extension": ".py",
   "mimetype": "text/x-python",
   "name": "python",
   "nbconvert_exporter": "python",
   "pygments_lexer": "ipython3",
   "version": "3.10.9"
  }
 },
 "nbformat": 4,
 "nbformat_minor": 5
}
