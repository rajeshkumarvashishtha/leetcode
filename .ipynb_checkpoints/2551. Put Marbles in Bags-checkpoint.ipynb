{
 "cells": [
  {
   "cell_type": "markdown",
   "metadata": {},
   "source": [
    "# 2551. Put Marbles in Bags\n",
    "You have k bags. You are given a **0-indexed** integer array weights where weights[i] is the weight of the ith marble. You are also given the integer k.\n",
    "\n",
    "Divide the marbles into the k bags according to the following rules:\n",
    "\n",
    "* No bag is empty.\n",
    "* If the ith marble and jth marble are in a bag, then all marbles with an index between the ith and jth indices should also be in that same bag.\n",
    "* If a bag consists of all the marbles with an index from i to j inclusively, then the cost of the bag is weights[i] + weights[j].\n",
    "  \n",
    "The **score** after distributing the marbles is the sum of the costs of all the k bags.\n",
    "\n",
    "Return the **difference** between the **maximum** and **minimum** scores among marble distributions."
   ]
  },
  {
   "cell_type": "markdown",
   "metadata": {},
   "source": [
    "# Example 1:\n",
    "\n",
    "**Input:**\n",
    "```python\n",
    "weights = [1,3,5,1], k = 2\n",
    "```\n",
    "**Output:**\n",
    "```python\n",
    "4\n",
    "```\n",
    "\n",
    "**Explanation:** \n",
    "\n",
    "The distribution [1],[3,5,1] results in the minimal score of (1+1) + (3+1) = 6. \n",
    "The distribution [1,3],[5,1], results in the maximal score of (1+3) + (5+1) = 10. \n",
    "Thus, we return their difference 10 - 6 = 4.\n",
    "\n",
    "\n",
    "# Example 2:\n",
    "**Input:**\n",
    "```python\n",
    "weights = [1, 3], k = 2\n",
    "```\n",
    "**Output:**\n",
    "```python\n",
    "0\n",
    "```\n",
    "**Explanation:** The only distribution possible is [1],[3]. \n",
    "Since both the maximal and minimal score are the same, we return 0.\n",
    " '''\n",
    "\n",
    "# Constraints:\n",
    "\n",
    "* 1 <= k <= weights.length <= 105\n",
    "\n",
    "* 1 <= weights[i] <= 109"
   ]
  },
  {
   "cell_type": "code",
   "execution_count": 15,
   "metadata": {},
   "outputs": [],
   "source": [
    "\n",
    "def putMarbles( weights, k) -> int:\n",
    "    arr = sorted(a + b for a, b in zip(weights,weights[1:]))\n",
    "    print(arr)\n",
    "    return sum(arr[len(arr) - k + 1 :]) - sum(arr[: k - 1])"
   ]
  },
  {
   "cell_type": "code",
   "execution_count": 16,
   "metadata": {},
   "outputs": [
    {
     "name": "stdout",
     "output_type": "stream",
     "text": [
      "[4, 6, 8]\n"
     ]
    },
    {
     "data": {
      "text/plain": [
       "4"
      ]
     },
     "execution_count": 16,
     "metadata": {},
     "output_type": "execute_result"
    }
   ],
   "source": [
    "weights = [1,3,5,1]\n",
    "putMarbles( weights, 2)"
   ]
  },
  {
   "cell_type": "code",
   "execution_count": null,
   "metadata": {},
   "outputs": [],
   "source": []
  }
 ],
 "metadata": {
  "kernelspec": {
   "display_name": "Python 3 (ipykernel)",
   "language": "python",
   "name": "python3"
  },
  "language_info": {
   "codemirror_mode": {
    "name": "ipython",
    "version": 3
   },
   "file_extension": ".py",
   "mimetype": "text/x-python",
   "name": "python",
   "nbconvert_exporter": "python",
   "pygments_lexer": "ipython3",
   "version": "3.10.9"
  }
 },
 "nbformat": 4,
 "nbformat_minor": 4
}
