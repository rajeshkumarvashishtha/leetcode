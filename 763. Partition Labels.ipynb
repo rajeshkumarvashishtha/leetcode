{
 "cells": [
  {
   "cell_type": "markdown",
   "id": "9173c1f8-8f19-49a1-aaf5-e65681fca1d3",
   "metadata": {},
   "source": [
    "# 763. Partition Labels\n",
    "\n",
    "## Problem Statement\n",
    "\n",
    "You are given a string `s`. We want to partition the string into as many parts as possible so that each letter appears in at most one part. For example, the string \"ababcc\" can be partitioned into [\"abab\", \"cc\"], but partitions such as [\"aba\", \"bcc\"] or [\"ab\", \"ab\", \"cc\"] are invalid.\n",
    "\n",
    "Note that the partition is done so that after concatenating all the parts in order, the resultant string should be `s`.\n",
    "\n",
    "Return a list of integers representing the size of these parts.\n",
    "\n",
    "### Example 1:\n",
    "\n",
    "**Input:**\n",
    "```python\n",
    "s = \"ababcbacadefegdehijhklij\"\n",
    "\n",
    "```\n",
    "**Output:**\n",
    "```python\n",
    "[9, 7, 8]\n",
    "```\n",
    "\n",
    "**Explanation:** The partition is \"ababcbaca\", \"defegde\", \"hijhklij\".\n",
    "This is a valid partition so that each letter appears in at most one part.\n",
    "A partition like \"ababcbacadefegde\", \"hijhklij\" is incorrect because it splits s into fewer parts.\n",
    "\n",
    "### Example 2:\n",
    "**Input:**\n",
    "```python\n",
    "s = \"eccbbbbdec\"\n",
    "```\n",
    "\n",
    "**Output:**\n",
    "```python\n",
    "[10]\n",
    "```\n",
    "\n",
    "### Constraints:\n",
    "```python\n",
    "```\n",
    "* 1 <= s.length <= 500\n",
    "\n",
    "* s consists of lowercase English letters."
   ]
  },
  {
   "cell_type": "code",
   "execution_count": 1,
   "id": "ee3637a8-14d6-4bf3-856f-b7afe243b6b0",
   "metadata": {},
   "outputs": [],
   "source": [
    "class Solution:\n",
    "    def partitionLabels(self, s):\n",
    "        hash_map = {}\n",
    "        for i, val in enumerate(s):\n",
    "            hash_map[val] = i \n",
    "        \n",
    "        res = []\n",
    "        end = 0\n",
    "        curr = 0\n",
    "        for i, val in enumerate(s):\n",
    "            curr += 1\n",
    "            if hash_map[val] > end:\n",
    "                end = hash_map[val]\n",
    "            if end == i:\n",
    "                res.append(curr)\n",
    "                curr = 0\n",
    "        return res"
   ]
  },
  {
   "cell_type": "code",
   "execution_count": 3,
   "id": "d742c124-e7cf-43c5-bc2b-75799e44fe89",
   "metadata": {},
   "outputs": [
    {
     "data": {
      "text/plain": [
       "[9, 7, 8]"
      ]
     },
     "execution_count": 3,
     "metadata": {},
     "output_type": "execute_result"
    }
   ],
   "source": [
    "s = \"ababcbacadefegdehijhklij\"\n",
    "a = Solution()\n",
    "a.partitionLabels(s)"
   ]
  },
  {
   "cell_type": "code",
   "execution_count": null,
   "id": "f1748e09-777f-48c6-b142-9a62104d2c45",
   "metadata": {},
   "outputs": [],
   "source": []
  }
 ],
 "metadata": {
  "kernelspec": {
   "display_name": "Python 3 (ipykernel)",
   "language": "python",
   "name": "python3"
  },
  "language_info": {
   "codemirror_mode": {
    "name": "ipython",
    "version": 3
   },
   "file_extension": ".py",
   "mimetype": "text/x-python",
   "name": "python",
   "nbconvert_exporter": "python",
   "pygments_lexer": "ipython3",
   "version": "3.10.9"
  }
 },
 "nbformat": 4,
 "nbformat_minor": 5
}
