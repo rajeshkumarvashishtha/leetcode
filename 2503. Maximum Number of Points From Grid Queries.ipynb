{
 "cells": [
  {
   "cell_type": "markdown",
   "id": "92fe9070-55ce-4507-81d3-00b44f3c0397",
   "metadata": {},
   "source": [
    "# 2503. Maximum Number of Points From Grid Queries\n",
    "\n",
    "You are given an m x n integer matrix grid and an array queries of size k.\n",
    "\n",
    "Find an array answer of size k such that for each integer queries[i] you start in the top left cell of the matrix and repeat the following process:\n",
    "\n",
    "* If queries[i] is strictly greater than the value of the current cell that you are in, then you get one point if it is your first time visiting this cell, and you can move to any adjacent cell in all 4 directions: up, down, left, and right.\n",
    "* Otherwise, you do not get any points, and you end this process.\n",
    "  \n",
    "After the process, answer[i] is the maximum number of points you can get. Note that for each query you are allowed to visit the same cell multiple times.\n",
    "\n",
    "Return the resulting array answer.\n",
    "\n"
   ]
  },
  {
   "cell_type": "markdown",
   "id": "6e68e926-bc8f-4be6-a7f4-c1ef2d02611c",
   "metadata": {},
   "source": [
    "## Examples:\n",
    "\n",
    "''' Input: grid = [[1,2,3],[2,5,7],[3,5,1]], queries = [5,6,2]\n",
    "\n",
    "Output: [5,8,1]\n",
    "\n",
    "Explanation: The diagrams above show which cells we visit to get points for each query.\n",
    "'''"
   ]
  },
  {
   "cell_type": "code",
   "execution_count": 11,
   "id": "9b603c97-6804-41cb-8ae7-4b5b84ea256d",
   "metadata": {},
   "outputs": [],
   "source": [
    "from heapq import heappop, heappush\n",
    "from itertools import pairwise\n",
    "class Solution:\n",
    "    def maxPoints(self, grid, queries) :\n",
    "        m, n = len(grid), len(grid[0])\n",
    "        qs = sorted((v, i) for i, v in enumerate(queries))\n",
    "        ans = [0] * len(qs)\n",
    "        q = [(grid[0][0], 0, 0)]\n",
    "        cnt = 0\n",
    "        vis = [[False] * n for _ in range(m)]\n",
    "        vis[0][0] = True\n",
    "        for v, k in qs:\n",
    "            while q and q[0][0] < v:\n",
    "                _, i, j = heappop(q)\n",
    "                cnt += 1\n",
    "                for a, b in pairwise((-1, 0, 1, 0, -1)):\n",
    "                    x, y = i + a, j + b\n",
    "                    if 0 <= x < m and 0 <= y < n and not vis[x][y]:\n",
    "                        heappush(q, (grid[x][y], x, y))\n",
    "                        vis[x][y] = True\n",
    "            ans[k] = cnt\n",
    "        return ans "
   ]
  },
  {
   "cell_type": "code",
   "execution_count": 12,
   "id": "71668a3b-6bf5-4928-8e84-f1198eea68ce",
   "metadata": {},
   "outputs": [
    {
     "data": {
      "text/plain": [
       "[5, 8, 1]"
      ]
     },
     "execution_count": 12,
     "metadata": {},
     "output_type": "execute_result"
    }
   ],
   "source": [
    "\n",
    "grid = [[1,2,3],[2,5,7],[3,5,1]]\n",
    "queries = [5,6,2]\n",
    "a = Solution()\n",
    "a.maxPoints(grid, queries)"
   ]
  },
  {
   "cell_type": "code",
   "execution_count": null,
   "id": "4610611b-fa92-4423-bec8-121e89efeedb",
   "metadata": {},
   "outputs": [],
   "source": []
  }
 ],
 "metadata": {
  "kernelspec": {
   "display_name": "Python 3 (ipykernel)",
   "language": "python",
   "name": "python3"
  },
  "language_info": {
   "codemirror_mode": {
    "name": "ipython",
    "version": 3
   },
   "file_extension": ".py",
   "mimetype": "text/x-python",
   "name": "python",
   "nbconvert_exporter": "python",
   "pygments_lexer": "ipython3",
   "version": "3.10.9"
  }
 },
 "nbformat": 4,
 "nbformat_minor": 5
}
