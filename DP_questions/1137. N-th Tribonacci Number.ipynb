{
 "cells": [
  {
   "cell_type": "markdown",
   "id": "b8537b29-6760-4137-b549-fbc19e6055e4",
   "metadata": {},
   "source": [
    "# 1137. N-th Tribonacci Number\n",
    "The **Tribonacci sequence** Tn is defined as follows: \n",
    "\n",
    "T0 = 0, T1 = 1, T2 = 1, and Tn+3 = Tn + Tn+1 + Tn+2 for n >= 0.\n",
    "\n",
    "Given n, return the value of Tn.\n",
    "\n",
    " \n",
    "\n",
    "## Example 1:\n",
    "\n",
    "**Input:** \n",
    "```python\n",
    "n = 4\n",
    "Output: 4\n",
    "```\n",
    "**Explanation:**\n",
    "T_3 = 0 + 1 + 1 = 2\n",
    "T_4 = 1 + 1 + 2 = 4\n",
    "## Example 2:\n",
    "\n",
    "**Input:** \n",
    "```python\n",
    "n = 25\n",
    "Output: 1389537\n",
    " ```\n",
    "\n",
    "## Constraints:\n",
    "```python\n",
    "0 <= n <= 37\n",
    "The answer is guaranteed to fit within a 32-bit integer, ie. answer <= 2^31 - 1.\n",
    "```"
   ]
  },
  {
   "cell_type": "code",
   "execution_count": 4,
   "id": "b0678c30-c4ef-4225-b3ae-b7770b752342",
   "metadata": {},
   "outputs": [],
   "source": [
    "class Solution:\n",
    "    def tribonacci(self, n: int) -> int:\n",
    "        if n == 0:\n",
    "            return 0\n",
    "        if n == 1:\n",
    "            return 1\n",
    "        if n == 2:\n",
    "            return 1\n",
    "        else:\n",
    "            # dp = [0] * (n+1)\n",
    "            # dp[0] = 0\n",
    "            # dp[1] = 1\n",
    "            # dp[2] = 1\n",
    "            a = 0\n",
    "            b = 1\n",
    "            c = 1\n",
    "            for i in range(3,n+1):\n",
    "                a, b, c = b, c, a + b + c\n",
    "            return c #dp[n]  "
   ]
  },
  {
   "cell_type": "code",
   "execution_count": 5,
   "id": "d6c87204-a140-49b4-aa60-240e47d7f1c5",
   "metadata": {},
   "outputs": [
    {
     "data": {
      "text/plain": [
       "7"
      ]
     },
     "execution_count": 5,
     "metadata": {},
     "output_type": "execute_result"
    }
   ],
   "source": [
    "n = 5\n",
    "a = Solution()\n",
    "a.tribonacci(n)"
   ]
  },
  {
   "cell_type": "code",
   "execution_count": null,
   "id": "95abf3d9-4cb1-4d20-b061-d8bc15d0c77a",
   "metadata": {},
   "outputs": [],
   "source": []
  },
  {
   "cell_type": "code",
   "execution_count": 6,
   "id": "1699b1a4-2c3f-4961-9fd6-2431c9c731cd",
   "metadata": {},
   "outputs": [
    {
     "name": "stdout",
     "output_type": "stream",
     "text": [
      "Test case 1 passed: got 4\n",
      "Test case 2 passed: got 1389537\n",
      "Test case 3 passed: got 0\n",
      "Test case 4 passed: got 1\n",
      "Test case 5 passed: got 1\n",
      "Test case 6 passed: got 7\n",
      "Test case 7 passed: got 13\n",
      "Test case 8 passed: got 149\n",
      "Test case 9 passed: got 3136\n"
     ]
    }
   ],
   "source": [
    "# Test cases\n",
    "def run_tests():\n",
    "    # Define test cases: (n, expected_output)\n",
    "    test_cases = [\n",
    "        (4, 4),   # Example 1: Expected output is 4\n",
    "        (25, 1389537),  # Example 2: Expected output is 1389537\n",
    "        (0, 0),   # Test case 3: T0 = 0\n",
    "        (1, 1),   # Test case 4: T1 = 1\n",
    "        (2, 1),   # Test case 5: T2 = 1\n",
    "        (5, 7),   # Test case 6: T5 = 7 (calculated as T3=2, T4=4, T5=7)\n",
    "        (6, 13),  # Test case 7: T6 = 13 (calculated as T4=4, T5=7, T6=13)\n",
    "        (10, 149),  # Test case 8: T10 = 149\n",
    "        (15, 3136),  # Test case 9: T15 = 3136\n",
    "    ]\n",
    "    \n",
    "    # Run each test case\n",
    "    for i, (n, expected) in enumerate(test_cases):\n",
    "        a = Solution()\n",
    "        result = a.tribonacci(n)\n",
    "        assert result == expected, f\"Test case {i+1} failed: expected {expected}, but got {result}\"\n",
    "        print(f\"Test case {i+1} passed: got {result}\")\n",
    "\n",
    "# Run the test suite\n",
    "run_tests()\n",
    "\n"
   ]
  },
  {
   "cell_type": "code",
   "execution_count": null,
   "id": "02420e6e-87b5-4e42-a0f7-f34f01dbb418",
   "metadata": {},
   "outputs": [],
   "source": []
  },
  {
   "cell_type": "code",
   "execution_count": null,
   "id": "5f77690c-afd8-4066-96ff-d6116f7c28e4",
   "metadata": {},
   "outputs": [],
   "source": []
  },
  {
   "cell_type": "code",
   "execution_count": null,
   "id": "2849179a-9721-4d33-821e-0651a653cef8",
   "metadata": {},
   "outputs": [],
   "source": []
  },
  {
   "cell_type": "code",
   "execution_count": null,
   "id": "6cacd20a-bec1-4d1a-8e60-bfcafa379080",
   "metadata": {},
   "outputs": [],
   "source": []
  }
 ],
 "metadata": {
  "kernelspec": {
   "display_name": "Python 3 (ipykernel)",
   "language": "python",
   "name": "python3"
  },
  "language_info": {
   "codemirror_mode": {
    "name": "ipython",
    "version": 3
   },
   "file_extension": ".py",
   "mimetype": "text/x-python",
   "name": "python",
   "nbconvert_exporter": "python",
   "pygments_lexer": "ipython3",
   "version": "3.10.9"
  }
 },
 "nbformat": 4,
 "nbformat_minor": 5
}
