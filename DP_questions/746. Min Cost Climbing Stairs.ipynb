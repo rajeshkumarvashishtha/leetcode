{
 "cells": [
  {
   "cell_type": "markdown",
   "id": "ded48410-5f09-4f8d-956a-b65ab81574f0",
   "metadata": {},
   "source": [
    "# 746. Min Cost Climbing Stairs\n",
    "You are given an integer array cost where `cost[i]` is the cost of `ith` step on a staircase. Once you pay the cost, you can either climb one or two steps.\n",
    "\n",
    "You can either start from the step with index `0`, or the step with index `1`.\n",
    "\n",
    "Return the **minimum cost** to reach the top of the floor.\n",
    "\n",
    " \n",
    "\n",
    "## Example 1:\n",
    "\n",
    "**Input:**\n",
    "```python\n",
    "cost = [10,15,20]\n",
    "Output: 15\n",
    "```\n",
    "Explanation: You will start at index 1.\n",
    "- Pay 15 and climb two steps to reach the top.\n",
    "The total cost is 15.\n",
    "## Example 2:\n",
    "\n",
    "**Input:** \n",
    "```python\n",
    "cost = [1,100,1,1,1,100,1,1,100,1]\n",
    "Output: 6\n",
    "```\n",
    "**Explanation:** You will start at index 0.\n",
    "- Pay 1 and climb two steps to reach index 2.\n",
    "- Pay 1 and climb two steps to reach index 4.\n",
    "- Pay 1 and climb two steps to reach index 6.\n",
    "- Pay 1 and climb one step to reach index 7.\n",
    "- Pay 1 and climb two steps to reach index 9.\n",
    "- Pay 1 and climb one step to reach the top.\n",
    "The total cost is 6.\n",
    " \n",
    "\n",
    "## Constraints:\n",
    "```python\n",
    " 2 <= cost.length <= 1000\n",
    " 0 <= cost[i] <= 999\n",
    "```"
   ]
  },
  {
   "cell_type": "code",
   "execution_count": 1,
   "id": "c2b553ed-de0d-4dc9-afa6-f9de8915cdf3",
   "metadata": {},
   "outputs": [],
   "source": [
    "class Solution:\n",
    "    def minCostClimbingStairs(self, cost) -> int:\n",
    "        n = len(cost)\n",
    "        \n",
    "        # Base cases: If there are only two steps, return the minimum cost\n",
    "        if n == 2:\n",
    "            return min(cost[0], cost[1])\n",
    "        \n",
    "        # dp[i] will store the minimum cost to reach step i\n",
    "        dp = [0] * n\n",
    "        \n",
    "        # Initialize the first two steps\n",
    "        dp[0] = cost[0]\n",
    "        dp[1] = cost[1]\n",
    "        \n",
    "        # Fill the dp table\n",
    "        for i in range(2, n):\n",
    "            dp[i] = min(dp[i-1], dp[i-2]) + cost[i]\n",
    "        \n",
    "        # The answer is the minimum cost to reach the top\n",
    "        return min(dp[n-1], dp[n-2])\n"
   ]
  },
  {
   "cell_type": "code",
   "execution_count": 5,
   "id": "bf164773-66ef-4a1c-b662-4885b16ba1f3",
   "metadata": {},
   "outputs": [
    {
     "data": {
      "text/plain": [
       "1001"
      ]
     },
     "execution_count": 5,
     "metadata": {},
     "output_type": "execute_result"
    }
   ],
   "source": [
    "cost = [999, 1000, 1, 1, 1]\n",
    "a = Solution()\n",
    "a.minCostClimbingStairs( cost)\n"
   ]
  },
  {
   "cell_type": "code",
   "execution_count": 7,
   "id": "52879ba1-2b40-4ca1-8ab2-e0a9c16fd918",
   "metadata": {},
   "outputs": [
    {
     "name": "stdout",
     "output_type": "stream",
     "text": [
      "Test case 1 passed: got 15\n",
      "Test case 2 passed: got 6\n",
      "Test case 3 passed: got 10\n",
      "Test case 4 passed: got 3\n",
      "Test case 5 passed: got 2\n",
      "Test case 6 passed: got 1001\n",
      "Test case 7 passed: got 4\n"
     ]
    }
   ],
   "source": [
    "# Automated Test Function\n",
    "def run_tests():\n",
    "    # Define test cases: (cost, expected_output)\n",
    "    test_cases = [\n",
    "        ([10, 15, 20], 15),  # Test case 1\n",
    "        ([1, 100, 1, 1, 1, 100, 1, 1, 100, 1], 6),  # Test case 2\n",
    "        ([10, 20], 10),  # Test case 3: Only two steps\n",
    "        ([1, 1, 1, 1, 1, 1], 3),  # Test case 4: All costs are the same\n",
    "        ([1, 100, 1], 2),  # Test case 5: Choosing step 0 and then step 2\n",
    "        ([999, 1000, 1, 1, 1], 1001),  # Test case 6: Large cost for first few steps\n",
    "        ([2, 2, 2, 2, 2], 4)  # Test case 7: All costs are 2\n",
    "    ]\n",
    "    \n",
    "    # Run each test case\n",
    "    for i, (cost, expected) in enumerate(test_cases):\n",
    "        a = Solution()\n",
    "        result = a.minCostClimbingStairs(cost)\n",
    "        assert result == expected, f\"Test case {i+1} failed: expected {expected}, but got {result}\"\n",
    "        print(f\"Test case {i+1} passed: got {result}\")\n",
    "\n",
    "# Run the test suite\n",
    "run_tests()"
   ]
  },
  {
   "cell_type": "code",
   "execution_count": null,
   "id": "42fc79eb-3bc5-4575-bb34-900ecdc4510a",
   "metadata": {},
   "outputs": [],
   "source": []
  }
 ],
 "metadata": {
  "kernelspec": {
   "display_name": "Python 3 (ipykernel)",
   "language": "python",
   "name": "python3"
  },
  "language_info": {
   "codemirror_mode": {
    "name": "ipython",
    "version": 3
   },
   "file_extension": ".py",
   "mimetype": "text/x-python",
   "name": "python",
   "nbconvert_exporter": "python",
   "pygments_lexer": "ipython3",
   "version": "3.10.9"
  }
 },
 "nbformat": 4,
 "nbformat_minor": 5
}
