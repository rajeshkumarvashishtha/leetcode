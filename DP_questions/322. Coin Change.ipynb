{
 "cells": [
  {
   "cell_type": "markdown",
   "id": "9d2bfe19-df26-4ac0-9929-a4b50d45d968",
   "metadata": {},
   "source": [
    "# 322. Coin Change\n",
    "You are given an integer array coins representing coins of different denominations and an integer amount representing a total amount of money.\n",
    "\n",
    "Return the fewest number of coins that you need to make up that amount. If that amount of money cannot be made up by any combination of the coins, return `-1`.\n",
    "\n",
    "You may assume that you have an infinite number of each kind of coin.\n",
    "\n",
    " \n",
    "\n",
    "## Example 1:\n",
    "\n",
    "**Input:**\n",
    "```python\n",
    "coins = [1,2,5], amount = 11\n",
    "```\n",
    "**Output:**\n",
    "```python\n",
    "3\n",
    "```\n",
    "**Explanation:**\n",
    "```\n",
    "11 = 5 + 5 + 1\n",
    "```\n",
    "## Example 2:\n",
    "\n",
    "**Input:**\n",
    "```python\n",
    "coins = [2], amount = 3\n",
    "```\n",
    "**Output:**\n",
    "```python\n",
    "-1\n",
    "```\n",
    "## Example 3:\n",
    "```python\n",
    "Input: coins = [1], amount = 0\n",
    "```\n",
    "**Output:**\n",
    "```python\n",
    "0\n",
    "```\n",
    "\n",
    "## Constraints:\n",
    "```python\n",
    "1 <= coins.length <= 12\n",
    "1 <= coins[i] <= 231 - 1\n",
    "0 <= amount <= 104\n",
    "```"
   ]
  },
  {
   "cell_type": "code",
   "execution_count": 3,
   "id": "d41cb8ac-a1f1-44e8-a4a9-829519b558a4",
   "metadata": {},
   "outputs": [],
   "source": [
    "class Solution:\n",
    "    def coinChange(self, coins, amount: int) -> int:\n",
    "       # Initialize the dp array where dp[i] is the fewest coins to make up amount i.\n",
    "        dp = [float('inf')] * (amount + 1)\n",
    "        dp[0] = 0  # No coins needed to make amount 0.\n",
    "        \n",
    "        # Iterate over each coin\n",
    "        for coin in coins:\n",
    "            # Update the dp array for each amount that can be formed using the current coin.\n",
    "            for i in range(coin, amount + 1):\n",
    "                dp[i] = min(dp[i], dp[i - coin] + 1)\n",
    "        \n",
    "        # If dp[amount] is still infinity, that means we can't form the amount.\n",
    "        return dp[amount] if dp[amount] != float('inf') else -1\n"
   ]
  },
  {
   "cell_type": "code",
   "execution_count": 4,
   "id": "92b72b8a-26fe-4463-ab9b-bda8bf13e56e",
   "metadata": {},
   "outputs": [
    {
     "data": {
      "text/plain": [
       "3"
      ]
     },
     "execution_count": 4,
     "metadata": {},
     "output_type": "execute_result"
    }
   ],
   "source": [
    "coins = [1,2,5]\n",
    "amount = 11\n",
    "a = Solution()\n",
    "a.coinChange(coins, amount)"
   ]
  },
  {
   "cell_type": "code",
   "execution_count": 9,
   "id": "bd96ba32-eed4-42f3-8136-4be914909ba5",
   "metadata": {},
   "outputs": [
    {
     "name": "stdout",
     "output_type": "stream",
     "text": [
      "Test case 1 passed: got 3\n",
      "Test case 2 passed: got -1\n",
      "Test case 3 passed: got 0\n",
      "Test case 4 passed: got 1\n",
      "Test case 5 passed: got 2\n",
      "Test case 6 passed: got 2\n",
      "Test case 7 passed: got -1\n",
      "Test case 8 passed: got 4\n",
      "Test case 9 passed: got 2\n",
      "Test case 10 passed: got 5\n",
      "Test case 11 passed: got 2\n",
      "Test case 12 passed: got 3\n",
      "Test case 13 passed: got 2\n",
      "Test case 14 passed: got 0\n",
      "Test case 15 passed: got 3\n",
      "Test case 16 passed: got 2\n"
     ]
    }
   ],
   "source": [
    "# Test cases\n",
    "def run_tests():\n",
    "    # Define test cases (coins, amount, expected_output)\n",
    "    test_cases = [\n",
    "        ([1, 2, 5], 11, 3),  # Example 1: Minimum 3 coins to make amount 11 (5 + 5 + 1)\n",
    "        ([2], 3, -1),         # Example 2: Impossible to make amount 3 with coin 2\n",
    "        ([1], 0, 0),          # Example 3: No coins needed to make amount 0\n",
    "        ([1, 2, 5], 5, 1),    # Example 4: Minimum 1 coin to make amount 5 (5)\n",
    "        ([2, 3, 4], 7, 2),    # Example 5: Minimum 2 coins to make amount 7 (3 + 4)\n",
    "        ([2, 5], 10, 2),      # Example 6: Minimum 2 coins to make amount 10 (5 + 5)\n",
    "        \n",
    "        # Additional Test Cases\n",
    "        ([3, 7], 2, -1),      # Impossible to make 2 using coins 3 and 7\n",
    "        ([5], 20, 4),         # 4 coins of 5 needed to make 20\n",
    "        ([10, 20, 50], 30, 2), # 30 with these coins\n",
    "        ([1, 1, 1], 5, 5),    # 5 coins of 1 needed to make 5\n",
    "        ([1, 5, 10], 11, 2),  # 2 coins (10 + 1) to make 11\n",
    "        ([1, 2, 5], 15, 3),   # 3 coins of 5 to make 15\n",
    "        ([100, 200, 500], 700, 2), # 2 coins: 500 + 200\n",
    "        ([1, 2, 5], 0, 0),    # No coins needed to make 0\n",
    "        ([1, 2, 5], 8, 3),    # 2 coins (5 + 3) to make 8\n",
    "        ([1, 2, 2], 4, 2),    # 2 coins of 2 to make 4\n",
    "    ]\n",
    "    \n",
    "    # Run each test case\n",
    "    for i, (coins, amount, expected) in enumerate(test_cases):\n",
    "        a = Solution()\n",
    "        result = a.coinChange(coins, amount)\n",
    "        assert result == expected, f\"Test case {i+1} failed: expected {expected}, but got {result}\"\n",
    "        print(f\"Test case {i+1} passed: got {result}\")\n",
    "\n",
    "# Run the test suite\n",
    "run_tests()"
   ]
  },
  {
   "cell_type": "code",
   "execution_count": null,
   "id": "3030360a-891a-4934-8fbc-6ebd10ab1724",
   "metadata": {},
   "outputs": [],
   "source": []
  },
  {
   "cell_type": "code",
   "execution_count": null,
   "id": "98cd24c1-5118-4e07-91e5-733f475e5c94",
   "metadata": {},
   "outputs": [],
   "source": []
  }
 ],
 "metadata": {
  "kernelspec": {
   "display_name": "Python 3 (ipykernel)",
   "language": "python",
   "name": "python3"
  },
  "language_info": {
   "codemirror_mode": {
    "name": "ipython",
    "version": 3
   },
   "file_extension": ".py",
   "mimetype": "text/x-python",
   "name": "python",
   "nbconvert_exporter": "python",
   "pygments_lexer": "ipython3",
   "version": "3.10.9"
  }
 },
 "nbformat": 4,
 "nbformat_minor": 5
}
