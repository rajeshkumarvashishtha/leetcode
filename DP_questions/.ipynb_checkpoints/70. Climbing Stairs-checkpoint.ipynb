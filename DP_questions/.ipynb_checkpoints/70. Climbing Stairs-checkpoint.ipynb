{
 "cells": [
  {
   "cell_type": "markdown",
   "id": "c7c07bdd-4bb0-4c70-8ba6-a58230bc8ab5",
   "metadata": {},
   "source": [
    "# 70. Climbing Stairs\n",
    "You are climbing a staircase. It takes `n` steps to reach the top.\n",
    "\n",
    "Each time you can either climb `1` or `2` steps. In how many distinct ways can you climb to the top?\n",
    "\n",
    " \n",
    "\n",
    "## Example 1:\n",
    "\n",
    "**Input:**\n",
    "```python\n",
    "n = 2\n",
    "Output: 2\n",
    "```\n",
    "**Explanation:** There are two ways to climb to the top.\n",
    "1. 1 step + 1 step\n",
    "2. 2 steps\n",
    "## Example 2:\n",
    "\n",
    "**Input:**\n",
    "```python\n",
    "n = 3\n",
    "Output: 3\n",
    "```\n",
    "**Explanation:** There are three ways to climb to the top.\n",
    "1. 1 step + 1 step + 1 step\n",
    "2. 1 step + 2 steps\n",
    "3. 2 steps + 1 step\n",
    " \n",
    "\n",
    "## Constraints:\n",
    "\n",
    "```python\n",
    "1 <= n <= 45\n",
    "```"
   ]
  },
  {
   "cell_type": "code",
   "execution_count": 1,
   "id": "69679e48-7c53-4b59-8028-94b3eb51a7e2",
   "metadata": {},
   "outputs": [],
   "source": [
    "class Solution:\n",
    "    def climbStairs(self, n: int) -> int:\n",
    "        if n == 0:\n",
    "            return 0\n",
    "        if n == 1:\n",
    "            return 1\n",
    "        if n == 2:\n",
    "            return 2\n",
    "        \n",
    "        # Initialize DP table\n",
    "        dp = [0] * (n + 1)\n",
    "        dp[1] = 1\n",
    "        dp[2] = 2\n",
    "        \n",
    "        # Fill the DP table\n",
    "        for i in range(3, n + 1):\n",
    "            dp[i] = dp[i - 1] + dp[i - 2]\n",
    "        \n",
    "        return dp[n]\n"
   ]
  },
  {
   "cell_type": "code",
   "execution_count": 10,
   "id": "6a9dfde8-c2b5-4ad7-9a87-22d9a5016685",
   "metadata": {},
   "outputs": [],
   "source": [
    "class Solution:\n",
    "    def climbStairs(self, n: int) -> int:\n",
    "        if n == 0:\n",
    "            return 0\n",
    "        if n == 1:\n",
    "            return 1\n",
    "        if n == 2:\n",
    "            return 2\n",
    "        \n",
    "        # Initialize DP table\n",
    "        # dp = [0] * (n + 1)\n",
    "        # dp[1] = 1\n",
    "        # dp[2] = 2\n",
    "        a = 1\n",
    "        b = 2\n",
    "        # Fill the DP table\n",
    "        for i in range(3, n + 1):\n",
    "            a, b = b, a+b\n",
    "        \n",
    "        return b\n"
   ]
  },
  {
   "cell_type": "code",
   "execution_count": 11,
   "id": "e606d14f-07c8-42a1-9ea8-ccc46e38a634",
   "metadata": {},
   "outputs": [
    {
     "data": {
      "text/plain": [
       "2"
      ]
     },
     "execution_count": 11,
     "metadata": {},
     "output_type": "execute_result"
    }
   ],
   "source": [
    "n = 2\n",
    "a = Solution()\n",
    "a.climbStairs( n)"
   ]
  },
  {
   "cell_type": "code",
   "execution_count": 12,
   "id": "592c1b80-b7f7-4149-9afd-709381a2f067",
   "metadata": {},
   "outputs": [
    {
     "data": {
      "text/plain": [
       "1836311903"
      ]
     },
     "execution_count": 12,
     "metadata": {},
     "output_type": "execute_result"
    }
   ],
   "source": [
    "n = 45\n",
    "a = Solution()\n",
    "a.climbStairs( n)"
   ]
  },
  {
   "cell_type": "code",
   "execution_count": 13,
   "id": "51fe8957-efd9-4936-99c6-69007eaaebd1",
   "metadata": {},
   "outputs": [
    {
     "name": "stdout",
     "output_type": "stream",
     "text": [
      "Test case 1 passed: for n=2, got 2\n",
      "Test case 2 passed: for n=3, got 3\n",
      "Test case 3 passed: for n=1, got 1\n",
      "Test case 4 passed: for n=5, got 8\n",
      "Test case 5 passed: for n=45, got 1836311903\n",
      "Test case 6 passed: for n=10, got 89\n",
      "Test case 7 passed: for n=20, got 10946\n",
      "Test case 8 passed: for n=7, got 21\n"
     ]
    }
   ],
   "source": [
    "def run_tests():\n",
    "    # Define test cases\n",
    "    test_cases = [\n",
    "        # Format: (input, expected_output)\n",
    "        (2, 2),  # Test case: n = 2\n",
    "        (3, 3),  # Test case: n = 3\n",
    "        (1, 1),  # Test case: n = 1 (Edge case with smallest n)\n",
    "        (5, 8),  # Test case: n = 5\n",
    "        (45, 1836311903),  # Test case: n = 45 (Large test case)\n",
    "        (10, 89),  # Test case: n = 10\n",
    "        (20, 10946),  # Test case: n = 20\n",
    "        (7, 21),  # Test case: n = 7\n",
    "    ]\n",
    "    \n",
    "    # Run each test case\n",
    "    for i, (n, expected) in enumerate(test_cases):\n",
    "        a = Solution()\n",
    "        result = a.climbStairs(n)\n",
    "        assert result == expected, f\"Test case {i+1} failed: for n={n}, expected {expected}, but got {result}\"\n",
    "        print(f\"Test case {i+1} passed: for n={n}, got {result}\")\n",
    "        \n",
    "\n",
    "# Run the test suite\n",
    "run_tests()"
   ]
  },
  {
   "cell_type": "code",
   "execution_count": null,
   "id": "856022c2-ba96-4679-a6b4-1c0950586eae",
   "metadata": {},
   "outputs": [],
   "source": []
  }
 ],
 "metadata": {
  "kernelspec": {
   "display_name": "Python 3 (ipykernel)",
   "language": "python",
   "name": "python3"
  },
  "language_info": {
   "codemirror_mode": {
    "name": "ipython",
    "version": 3
   },
   "file_extension": ".py",
   "mimetype": "text/x-python",
   "name": "python",
   "nbconvert_exporter": "python",
   "pygments_lexer": "ipython3",
   "version": "3.10.9"
  }
 },
 "nbformat": 4,
 "nbformat_minor": 5
}
