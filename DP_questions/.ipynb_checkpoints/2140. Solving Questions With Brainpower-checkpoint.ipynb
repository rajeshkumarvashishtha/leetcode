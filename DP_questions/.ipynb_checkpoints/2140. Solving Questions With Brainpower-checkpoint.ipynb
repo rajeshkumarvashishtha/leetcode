{
 "cells": [
  {
   "cell_type": "markdown",
   "id": "73f6aea8-3e00-4778-8383-d6e55cadcd7f",
   "metadata": {},
   "source": [
    "# 2140. Solving Questions With Brainpower\n",
    "You are given a **0-indexed 2D** integer array questions where `questions[i] = [pointsi, brainpoweri]`.\n",
    "\n",
    "The array describes the questions of an exam, where you have to process the questions in order (i.e., starting from question 0) and make a decision whether to solve or skip each question. Solving question `i` will earn you points `i` points but you will be unable to solve each of the next brainpower `i` questions. If you skip question `i`, you get to make the decision on the next question.\n",
    "\n",
    "For example, given questions = `[[3, 2], [4, 3], [4, 4], [2, 5]]`:\n",
    "If question 0 is solved, you will earn 3 points but you will be unable to solve questions 1 and 2.\n",
    "If instead, question 0 is skipped and question 1 is solved, you will earn 4 points but you will be unable to solve questions 2 and 3.\n",
    "Return the maximum points you can earn for the exam.\n",
    "\n",
    " \n",
    "\n",
    "## Example 1:\n",
    "\n",
    "**Input:**\n",
    "```python\n",
    "questions = [[3,2],[4,3],[4,4],[2,5]]\n",
    "Output: 5\n",
    "```\n",
    "**Explanation:** The maximum points can be earned by solving questions 0 and 3.\n",
    "- Solve question 0: Earn 3 points, will be unable to solve the next 2 questions\n",
    "- Unable to solve questions 1 and 2\n",
    "- Solve question 3: Earn 2 points\n",
    "Total points earned: 3 + 2 = 5. There is no other way to earn 5 or more points.\n",
    "## Example 2:\n",
    "\n",
    "**Input:**\n",
    "```python\n",
    "questions = [[1,1],[2,2],[3,3],[4,4],[5,5]]\n",
    "Output: 7\n",
    "```\n",
    "**Explanation:** The maximum points can be earned by solving questions 1 and 4.\n",
    "- Skip question 0\n",
    "- Solve question 1: Earn 2 points, will be unable to solve the next 2 questions\n",
    "- Unable to solve questions 2 and 3\n",
    "- Solve question 4: Earn 5 points\n",
    "Total points earned: 2 + 5 = 7. There is no other way to earn 7 or more points.\n",
    " \n",
    "\n",
    "## Constraints:\n",
    "```python\n",
    " 1 <= questions.length <= 105\n",
    " questions[i].length == 2\n",
    " 1 <= pointsi, brainpoweri <= 105\n",
    "```"
   ]
  },
  {
   "cell_type": "markdown",
   "id": "f99716c3-3d6b-4144-a29e-85f271f3eb0a",
   "metadata": {},
   "source": [
    "# approch\n",
    "* start with last"
   ]
  },
  {
   "cell_type": "code",
   "execution_count": 1,
   "id": "c55d3428-b0bf-4bc2-8649-39c1cd12e14d",
   "metadata": {},
   "outputs": [],
   "source": [
    "class Solution:\n",
    "    def mostPoints(self, questions) -> int:\n",
    "        n = len(questions)\n",
    "        dp = [0] * (n + 1)  # DP array, dp[i] represents max points from question i onwards\n",
    "        i = n - 1\n",
    "        while i >= 0 :\n",
    "            # Option 1: Skip the current question\n",
    "            skip = dp[i + 1]\n",
    "            \n",
    "            # Option 2: Solve the current question\n",
    "            solve = questions[i][0] + (dp[i + questions[i][1] + 1] if i + questions[i][1] + 1 < n else 0)\n",
    "            \n",
    "            # Take the maximum of skipping or solving the current question\n",
    "            dp[i] = max(skip, solve)\n",
    "            i -= 1\n",
    "        \n",
    "        # The result will be stored in dp[0], which gives the max points starting from the first question\n",
    "        return dp[0]"
   ]
  },
  {
   "cell_type": "code",
   "execution_count": null,
   "id": "9c84d2bb-e5d5-44bd-9cc8-7125838c6b38",
   "metadata": {},
   "outputs": [],
   "source": [
    "# example 1"
   ]
  },
  {
   "cell_type": "code",
   "execution_count": 2,
   "id": "f6f714e9-1ee5-49c1-b88a-ba4f2d21738f",
   "metadata": {},
   "outputs": [
    {
     "data": {
      "text/plain": [
       "5"
      ]
     },
     "execution_count": 2,
     "metadata": {},
     "output_type": "execute_result"
    }
   ],
   "source": [
    "questions = [[3,2],[4,3],[4,4],[2,5]]\n",
    "a = Solution()\n",
    "a.mostPoints( questions)"
   ]
  },
  {
   "cell_type": "code",
   "execution_count": 3,
   "id": "b0b42e4c-14da-420d-a5ec-074e44da426e",
   "metadata": {},
   "outputs": [
    {
     "data": {
      "text/plain": [
       "7"
      ]
     },
     "execution_count": 3,
     "metadata": {},
     "output_type": "execute_result"
    }
   ],
   "source": [
    "# example 2\n",
    "questions = [[1,1],[2,2],[3,3],[4,4],[5,5]]\n",
    "a = Solution()\n",
    "a.mostPoints( questions)"
   ]
  },
  {
   "cell_type": "code",
   "execution_count": null,
   "id": "83259f16-62b0-4ff4-98fe-d7a033fba4c6",
   "metadata": {},
   "outputs": [],
   "source": []
  }
 ],
 "metadata": {
  "kernelspec": {
   "display_name": "Python 3 (ipykernel)",
   "language": "python",
   "name": "python3"
  },
  "language_info": {
   "codemirror_mode": {
    "name": "ipython",
    "version": 3
   },
   "file_extension": ".py",
   "mimetype": "text/x-python",
   "name": "python",
   "nbconvert_exporter": "python",
   "pygments_lexer": "ipython3",
   "version": "3.10.9"
  }
 },
 "nbformat": 4,
 "nbformat_minor": 5
}
